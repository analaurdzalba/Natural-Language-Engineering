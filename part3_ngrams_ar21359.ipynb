{
 "cells": [
  {
   "cell_type": "code",
   "execution_count": 1,
   "metadata": {},
   "outputs": [],
   "source": [
    "#Assignment 1: Language modeling and regular expressions\n",
    "#Part 3: Ngrams\n",
    "#Ana Laura Rodriguez Alba, AR21359\n",
    "#November 19, 2021"
   ]
  },
  {
   "cell_type": "code",
   "execution_count": 3,
   "metadata": {},
   "outputs": [
    {
     "name": "stdout",
     "output_type": "stream",
     "text": [
      "showing info https://raw.githubusercontent.com/nltk/nltk_data/gh-pages/index.xml\n"
     ]
    }
   ],
   "source": [
    "import nltk\n",
    "from nltk.corpus import brown\n",
    "nltk.download()\n",
    "from nltk import ngrams\n",
    "#import collections import Counter,defaultdict\n",
    "import random\n",
    "import re"
   ]
  },
  {
   "cell_type": "code",
   "execution_count": 16,
   "metadata": {},
   "outputs": [
    {
     "name": "stdout",
     "output_type": "stream",
     "text": [
      "('i', 'am', 'very')\n",
      "('am', 'very', 'tired')\n",
      "('very', 'tired', 'of')\n",
      "('tired', 'of', 'working')\n",
      "('of', 'working', 'right')\n",
      "('working', 'right', 'now')\n",
      "('right', 'now', 'you')\n",
      "('now', 'you', 'know')\n"
     ]
    }
   ],
   "source": [
    "n = 3\n",
    "sentence = 'i am very tired of working right now you know'\n",
    "trigram = ngrams(sentence.split(),n)\n",
    "\n",
    "for gram in trigram:\n",
    "    print(gram)"
   ]
  },
  {
   "cell_type": "code",
   "execution_count": 27,
   "metadata": {},
   "outputs": [],
   "source": [
    "def modelfunct():\n",
    "    brown_corp = brown.words()\n",
    "    tk = []\n",
    "    for w in brown_corp:\n",
    "        w = w.lower()\n",
    "        w = re.sub(r'[^a-zA-Z\\s]', '', w)\n",
    "        #remove everything but letters\n",
    "        if(w != ''):\n",
    "            tk.append(w)\n",
    "    trigram = list(ngrams(tk,3))\n",
    "    #create list with trigram\n",
    "    return trigram\n",
    "            \n"
   ]
  },
  {
   "cell_type": "code",
   "execution_count": 28,
   "metadata": {},
   "outputs": [],
   "source": [
    "def main():\n",
    "    print(modelfunct())"
   ]
  },
  {
   "cell_type": "code",
   "execution_count": 29,
   "metadata": {},
   "outputs": [
    {
     "name": "stderr",
     "output_type": "stream",
     "text": [
      "IOPub data rate exceeded.\n",
      "The notebook server will temporarily stop sending output\n",
      "to the client in order to avoid crashing it.\n",
      "To change this limit, set the config variable\n",
      "`--NotebookApp.iopub_data_rate_limit`.\n",
      "\n",
      "Current values:\n",
      "NotebookApp.iopub_data_rate_limit=1000000.0 (bytes/sec)\n",
      "NotebookApp.rate_limit_window=3.0 (secs)\n",
      "\n"
     ]
    }
   ],
   "source": [
    "main()"
   ]
  },
  {
   "cell_type": "code",
   "execution_count": null,
   "metadata": {},
   "outputs": [],
   "source": []
  }
 ],
 "metadata": {
  "kernelspec": {
   "display_name": "Python 3",
   "language": "python",
   "name": "python3"
  },
  "language_info": {
   "codemirror_mode": {
    "name": "ipython",
    "version": 3
   },
   "file_extension": ".py",
   "mimetype": "text/x-python",
   "name": "python",
   "nbconvert_exporter": "python",
   "pygments_lexer": "ipython3",
   "version": "3.7.1"
  }
 },
 "nbformat": 4,
 "nbformat_minor": 2
}
