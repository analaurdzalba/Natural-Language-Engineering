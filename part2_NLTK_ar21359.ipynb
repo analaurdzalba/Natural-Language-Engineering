{
 "cells": [
  {
   "cell_type": "code",
   "execution_count": null,
   "metadata": {},
   "outputs": [],
   "source": [
    "#Assignment 1: Language modeling and regular expressions\n",
    "#Part 2\n",
    "#Ana Laura Rodriguez Alba, AR21359\n",
    "#November 19, 2021"
   ]
  },
  {
   "cell_type": "code",
   "execution_count": 1,
   "metadata": {},
   "outputs": [
    {
     "name": "stdout",
     "output_type": "stream",
     "text": [
      "*** Introductory Examples for the NLTK Book ***\n",
      "Loading text1, ..., text9 and sent1, ..., sent9\n",
      "Type the name of the text or sentence to view it.\n",
      "Type: 'texts()' or 'sents()' to list the materials.\n",
      "text1: Moby Dick by Herman Melville 1851\n",
      "text2: Sense and Sensibility by Jane Austen 1811\n",
      "text3: The Book of Genesis\n",
      "text4: Inaugural Address Corpus\n",
      "text5: Chat Corpus\n",
      "text6: Monty Python and the Holy Grail\n",
      "text7: Wall Street Journal\n",
      "text8: Personals Corpus\n",
      "text9: The Man Who Was Thursday by G . K . Chesterton 1908\n",
      "showing info https://raw.githubusercontent.com/nltk/nltk_data/gh-pages/index.xml\n"
     ]
    },
    {
     "data": {
      "text/plain": [
       "True"
      ]
     },
     "execution_count": 1,
     "metadata": {},
     "output_type": "execute_result"
    }
   ],
   "source": [
    "import nltk\n",
    "from nltk.book import *\n",
    "nltk.download()\n",
    "#download book identifier in pop up"
   ]
  },
  {
   "cell_type": "code",
   "execution_count": 2,
   "metadata": {},
   "outputs": [
    {
     "data": {
      "text/plain": [
       "87608"
      ]
     },
     "execution_count": 2,
     "metadata": {},
     "output_type": "execute_result"
    }
   ],
   "source": [
    "from nltk import re\n",
    "wsj_tokens = text7.tokens\n",
    "#tokenizes text to be analyzed\n",
    "\n",
    "wsj_tokens_nopunct = [word.lower() for word in wsj_tokens if re.search(\"\\w\",word)]\n",
    "#removes punctuation\n",
    "ntokens_wsj = len(wsj_tokens_nopunct)\n",
    "ntokens_wsj\n",
    "#to observe how many tokens there are"
   ]
  },
  {
   "cell_type": "code",
   "execution_count": 26,
   "metadata": {
    "scrolled": true
   },
   "outputs": [],
   "source": [
    "#find frequency of words in text\n",
    "from nltk import FreqDist\n",
    "from nltk import MLEProbDist\n"
   ]
  },
  {
   "cell_type": "code",
   "execution_count": 27,
   "metadata": {},
   "outputs": [
    {
     "name": "stdout",
     "output_type": "stream",
     "text": [
      "[('the', 4764), ('of', 2325), ('to', 2182), ('a', 1988), ('in', 1769), ('and', 1556), ('*-1', 1123), ('0', 1099), (\"'s\", 865), ('for', 853), ('that', 848), ('*t*-1', 806), ('*u*', 744), ('is', 672), ('said', 628), ('it', 577), ('on', 508), ('by', 440), ('at', 430), ('as', 415), ('with', 398), ('from', 391), ('million', 383), ('mr.', 375), ('*-2', 372), ('are', 369), ('was', 367), ('be', 356), ('*t*-2', 345), ('its', 343), ('has', 339), ('an', 335), ('new', 328), ('have', 325), (\"n't\", 325), ('but', 309), ('he', 303), ('or', 294), ('will', 281), ('they', 263), ('company', 260), ('which', 225), ('this', 224), ('u.s.', 221), ('says', 217), ('year', 214), ('about', 212), ('would', 209), ('more', 204), ('were', 197)]\n"
     ]
    }
   ],
   "source": [
    "wsj_fdist = FreqDist(wsj_tokens_nopunct)\n",
    "print(wsj_fdist.most_common(50))"
   ]
  }
 ],
 "metadata": {
  "kernelspec": {
   "display_name": "Python 3",
   "language": "python",
   "name": "python3"
  },
  "language_info": {
   "codemirror_mode": {
    "name": "ipython",
    "version": 3
   },
   "file_extension": ".py",
   "mimetype": "text/x-python",
   "name": "python",
   "nbconvert_exporter": "python",
   "pygments_lexer": "ipython3",
   "version": "3.7.1"
  }
 },
 "nbformat": 4,
 "nbformat_minor": 2
}
