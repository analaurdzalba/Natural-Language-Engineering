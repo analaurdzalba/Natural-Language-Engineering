{
 "cells": [
  {
   "cell_type": "code",
   "execution_count": null,
   "metadata": {},
   "outputs": [],
   "source": [
    "#Assignment 1: Language modeling and regular expressions\n",
    "#Part 1\n",
    "#Ana Laura Rodriguez Alba, AR21359\n",
    "#November 19, 2021"
   ]
  },
  {
   "cell_type": "code",
   "execution_count": 3,
   "metadata": {},
   "outputs": [
    {
     "name": "stdout",
     "output_type": "stream",
     "text": [
      "text: 200\n",
      "This is the currency found in the text:\n",
      "['$131bn', '£100bn', '$100bn']\n",
      "These are the phone numbers in your text: ['+1-(782)-506-4809', '8114663069', '555.123.4565', '2-(800)-545-2468', '(234) 234 2442', '1234567890', '123-4567', '(243)-234-2342', '12345678900', '12345678900']\n"
     ]
    }
   ],
   "source": [
    "import re\n",
    "import urllib.request\n",
    "\n",
    "def main(): \n",
    "#exercise one in regular expression section\n",
    "    webUrl  = urllib.request.urlopen('https://www.bbc.co.uk/news/business-41779341')\n",
    "    #gets data from url\n",
    "    print (\"text: \" + str(webUrl.getcode()))\n",
    "    data = webUrl.read()\n",
    "    data = data.decode('utf-8')\n",
    "    #print(data) to observe data retrieved\n",
    "\n",
    "    regexMoney = re.compile(r'(([$£€])([0-9]+)(bn|m|p))|(([$£€])([0-9]+(\\.[0-9])?))|([0-9](\\.[0-9])?)*[\\s](euro|euros|dollar|dollars|pound|pounds|pesos|peso|cents|pence)|[$£€]?([0-9]+(\\.[0-9])?)[\\s](m|bn|p)|[$£€][0-9]+(\\.[0-9])(bn|m|p)')\n",
    "    currency = re.findall(regexMoney, data)\n",
    "    #implement regular expression to the data retrieved from url\n",
    "    \n",
    "    correct_currency = []\n",
    "    for i in currency:\n",
    "        correct_currency.append(i[0])\n",
    "    #create list with currency found in url\n",
    "    \n",
    "    currency_nostrings = [string for string in correct_currency if string != \"\"]\n",
    "    currency_nostrings = list(dict.fromkeys(currency_nostrings))\n",
    "    print(\"This is the currency found in the text:\")\n",
    "    print(currency_nostrings)\n",
    "\n",
    "#exercise two in regular expression section:\n",
    "#get phone numbers from text using regular expression in sample text\n",
    "\n",
    "    textPhone = \"The following phonebook is from Monterrey and includes different phone formats, pay attention before dialing, Miss Ana Rodriguez: +1-(782)-506-4809, Mr Eduardo: 8114663069, Mrs Sanchez: 555.123.4565, Juan Roberto: 2-(800)-545-2468, Silvia Martinez: (234) 234 2442, Sebastian Yatra: 1234567890, Octavio Perez: 123-4567, Cristiano Ronaldo: (243)-234-2342, Simon Bolivar: 12345678900, Laurel Thompson: 12345678900\"\n",
    "    #contains examples provided to filter out with regular expression\n",
    "    phonebook = re.compile(r'((([+])?([0-9]{1,2}(.|-)?))?(\\(?[0-9]{3}\\)|[0-9]{3})(.| |-)?[0-9]{3}(.|-)?([0-9]{1,4}))')\n",
    "    #regular expression to filter phone numbers, allows the use of . and - as well as () and + for different formats\n",
    "\n",
    "    realP = re.findall(phonebook,textPhone)\n",
    "    #implements regular expression to the sample text provided earlier\n",
    "    phonebook_final = []\n",
    "    #creates empty list\n",
    "    for number in realP: \n",
    "        phonebook_final.append(number[0])\n",
    "    #fills out list with retrieved phone numbers\n",
    "    print(\"These are the phone numbers in your text:\",phonebook_final)\n",
    "    #prints phone numbers found on sample named textPhone\n",
    "\n",
    "main()\n",
    "\n",
    "\n"
   ]
  }
 ],
 "metadata": {
  "kernelspec": {
   "display_name": "Python 3",
   "language": "python",
   "name": "python3"
  },
  "language_info": {
   "codemirror_mode": {
    "name": "ipython",
    "version": 3
   },
   "file_extension": ".py",
   "mimetype": "text/x-python",
   "name": "python",
   "nbconvert_exporter": "python",
   "pygments_lexer": "ipython3",
   "version": "3.7.1"
  }
 },
 "nbformat": 4,
 "nbformat_minor": 2
}
